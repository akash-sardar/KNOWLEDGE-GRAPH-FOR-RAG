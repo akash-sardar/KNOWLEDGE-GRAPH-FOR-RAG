{
 "cells": [
  {
   "cell_type": "markdown",
   "id": "bc062f5f",
   "metadata": {},
   "source": [
    "# Lesson 2: Querying Knowledge Graphs with Cypher"
   ]
  },
  {
   "cell_type": "markdown",
   "id": "4367872c",
   "metadata": {},
   "source": [
    "### Import packages and set up Neo4"
   ]
  },
  {
   "cell_type": "code",
   "execution_count": 1,
   "id": "5072f44d",
   "metadata": {},
   "outputs": [],
   "source": [
    "from dotenv import load_dotenv\n",
    "import os\n",
    "\n",
    "from langchain_neo4j import Neo4jGraph"
   ]
  },
  {
   "cell_type": "code",
   "execution_count": 2,
   "id": "6562b851",
   "metadata": {},
   "outputs": [],
   "source": [
    "load_dotenv()\n",
    "NEO4J_URI = os.getenv('NEO4J_URI')\n",
    "NEO4J_USERNAME = os.getenv('NEO4J_USERNAME')\n",
    "NEO4J_PASSWORD = os.getenv('NEO4J_PASSWORD')\n",
    "NEO4J_DATABASE = os.getenv('NEO4J_DATABASE')\n"
   ]
  },
  {
   "cell_type": "markdown",
   "id": "69899c76",
   "metadata": {},
   "source": [
    "- Initialize a knowledge graph instance using LangChain's Neo4j integration"
   ]
  },
  {
   "cell_type": "code",
   "execution_count": 3,
   "id": "c4997078",
   "metadata": {},
   "outputs": [],
   "source": [
    "kg = Neo4jGraph(\n",
    "    url = NEO4J_URI,\n",
    "    username=NEO4J_USERNAME,\n",
    "    password=NEO4J_PASSWORD,\n",
    "    database=NEO4J_DATABASE\n",
    ")"
   ]
  },
  {
   "cell_type": "markdown",
   "id": "215f8dbd",
   "metadata": {},
   "source": [
    "### Querying the movie knowledge graph \n",
    "- Match all nodes in the graph"
   ]
  },
  {
   "cell_type": "code",
   "execution_count": 4,
   "id": "e6ac0a77",
   "metadata": {},
   "outputs": [],
   "source": [
    "cypher = \"\"\"\n",
    "MATCH (n)\n",
    "RETURN count(n)\n",
    "\"\"\""
   ]
  },
  {
   "cell_type": "code",
   "execution_count": 5,
   "id": "164a062f",
   "metadata": {},
   "outputs": [
    {
     "data": {
      "text/plain": [
       "[{'count(n)': 431}]"
      ]
     },
     "execution_count": 5,
     "metadata": {},
     "output_type": "execute_result"
    }
   ],
   "source": [
    "result = kg.query(cypher)\n",
    "result"
   ]
  },
  {
   "cell_type": "code",
   "execution_count": 6,
   "id": "d02baaa5",
   "metadata": {},
   "outputs": [],
   "source": [
    "cypher = \"\"\"\n",
    "  MATCH (n) \n",
    "  RETURN count(n) AS numberOfNodes\n",
    "  \"\"\""
   ]
  },
  {
   "cell_type": "code",
   "execution_count": 7,
   "id": "522429b7",
   "metadata": {},
   "outputs": [
    {
     "data": {
      "text/plain": [
       "[{'numberOfNodes': 431}]"
      ]
     },
     "execution_count": 7,
     "metadata": {},
     "output_type": "execute_result"
    }
   ],
   "source": [
    "result = kg.query(cypher)\n",
    "result"
   ]
  },
  {
   "cell_type": "markdown",
   "id": "bdf3ef2c",
   "metadata": {},
   "source": [
    "- Match only the `Products` nodes by specifying the node label"
   ]
  },
  {
   "cell_type": "code",
   "execution_count": 8,
   "id": "e313d82b",
   "metadata": {},
   "outputs": [
    {
     "data": {
      "text/plain": [
       "[{'numberOfProducts': 10}]"
      ]
     },
     "execution_count": 8,
     "metadata": {},
     "output_type": "execute_result"
    }
   ],
   "source": [
    "cypher = \"\"\"\n",
    "  MATCH (n:Product) \n",
    "  RETURN count(n) AS numberOfProducts\n",
    "  \"\"\"\n",
    "kg.query(cypher)"
   ]
  },
  {
   "cell_type": "markdown",
   "id": "471e39a9",
   "metadata": {},
   "source": [
    "- Match a single person by specifying the value of the `name` property on the `Person` node"
   ]
  },
  {
   "cell_type": "code",
   "execution_count": 9,
   "id": "a089309e",
   "metadata": {},
   "outputs": [
    {
     "data": {
      "text/plain": [
       "[{'numberOfCambridge': 1}]"
      ]
     },
     "execution_count": 9,
     "metadata": {},
     "output_type": "execute_result"
    }
   ],
   "source": [
    "cypher = \"\"\"\n",
    "  MATCH (c:Location {name: \"Cambridge\"}) \n",
    "  RETURN count(c) AS numberOfCambridge\n",
    "  \"\"\"\n",
    "kg.query(cypher)"
   ]
  },
  {
   "cell_type": "markdown",
   "id": "3ea46704",
   "metadata": {},
   "source": [
    "### Cypher patterns with conditional matching"
   ]
  },
  {
   "cell_type": "code",
   "execution_count": 11,
   "id": "1e5ed55f",
   "metadata": {},
   "outputs": [
    {
     "name": "stderr",
     "output_type": "stream",
     "text": [
      "Received notification from DBMS server: {severity: WARNING} {code: Neo.ClientNotification.Statement.UnknownLabelWarning} {category: UNRECOGNIZED} {title: The provided label is not in the database.} {description: One of the labels in your query is not available in the database, make sure you didn't misspell it or that the label is available when you run this statement in your application (the missing label name is: Movie)} {position: line: 2, column: 19, offset: 19} for query: '\\n  MATCH (nineties:Movie) \\n  WHERE nineties.released >= 1990 \\n    AND nineties.released < 2000 \\n  RETURN nineties.title\\n  '\n",
      "Received notification from DBMS server: {severity: WARNING} {code: Neo.ClientNotification.Statement.UnknownPropertyKeyWarning} {category: UNRECOGNIZED} {title: The provided property key is not in the database} {description: One of the property names in your query is not available in the database, make sure you didn't misspell it or that the label is available when you run this statement in your application (the missing property name is: released)} {position: line: 3, column: 18, offset: 44} for query: '\\n  MATCH (nineties:Movie) \\n  WHERE nineties.released >= 1990 \\n    AND nineties.released < 2000 \\n  RETURN nineties.title\\n  '\n",
      "Received notification from DBMS server: {severity: WARNING} {code: Neo.ClientNotification.Statement.UnknownPropertyKeyWarning} {category: UNRECOGNIZED} {title: The provided property key is not in the database} {description: One of the property names in your query is not available in the database, make sure you didn't misspell it or that the label is available when you run this statement in your application (the missing property name is: released)} {position: line: 4, column: 18, offset: 79} for query: '\\n  MATCH (nineties:Movie) \\n  WHERE nineties.released >= 1990 \\n    AND nineties.released < 2000 \\n  RETURN nineties.title\\n  '\n"
     ]
    },
    {
     "data": {
      "text/plain": [
       "[]"
      ]
     },
     "execution_count": 11,
     "metadata": {},
     "output_type": "execute_result"
    }
   ],
   "source": [
    "cypher = \"\"\"\n",
    "  MATCH (nineties:Movie) \n",
    "  WHERE nineties.released >= 1990 \n",
    "    AND nineties.released < 2000 \n",
    "  RETURN nineties.title\n",
    "  \"\"\"\n",
    "kg.query(cypher)"
   ]
  },
  {
   "cell_type": "markdown",
   "id": "35375085",
   "metadata": {},
   "source": [
    "### Pattern matching with multiple nodes"
   ]
  },
  {
   "cell_type": "code",
   "execution_count": 12,
   "id": "d2d733b6",
   "metadata": {},
   "outputs": [
    {
     "name": "stderr",
     "output_type": "stream",
     "text": [
      "Received notification from DBMS server: {severity: WARNING} {code: Neo.ClientNotification.Statement.UnknownRelationshipTypeWarning} {category: UNRECOGNIZED} {title: The provided relationship type is not in the database.} {description: One of the relationship types in your query is not available in the database, make sure you didn't misspell it or that the label is available when you run this statement in your application (the missing relationship type is: ACTED_IN)} {position: line: 2, column: 26, offset: 26} for query: '\\n  MATCH (actor:Person)-[:ACTED_IN]->(movie:Movie) \\n  RETURN actor.name, movie.title LIMIT 10\\n  '\n",
      "Received notification from DBMS server: {severity: WARNING} {code: Neo.ClientNotification.Statement.UnknownLabelWarning} {category: UNRECOGNIZED} {title: The provided label is not in the database.} {description: One of the labels in your query is not available in the database, make sure you didn't misspell it or that the label is available when you run this statement in your application (the missing label name is: Person)} {position: line: 2, column: 16, offset: 16} for query: '\\n  MATCH (actor:Person)-[:ACTED_IN]->(movie:Movie) \\n  RETURN actor.name, movie.title LIMIT 10\\n  '\n",
      "Received notification from DBMS server: {severity: WARNING} {code: Neo.ClientNotification.Statement.UnknownLabelWarning} {category: UNRECOGNIZED} {title: The provided label is not in the database.} {description: One of the labels in your query is not available in the database, make sure you didn't misspell it or that the label is available when you run this statement in your application (the missing label name is: Movie)} {position: line: 2, column: 44, offset: 44} for query: '\\n  MATCH (actor:Person)-[:ACTED_IN]->(movie:Movie) \\n  RETURN actor.name, movie.title LIMIT 10\\n  '\n"
     ]
    },
    {
     "data": {
      "text/plain": [
       "[]"
      ]
     },
     "execution_count": 12,
     "metadata": {},
     "output_type": "execute_result"
    }
   ],
   "source": [
    "cypher = \"\"\"\n",
    "  MATCH (actor:Person)-[:ACTED_IN]->(movie:Movie) \n",
    "  RETURN actor.name, movie.title LIMIT 10\n",
    "  \"\"\"\n",
    "kg.query(cypher)"
   ]
  },
  {
   "cell_type": "code",
   "execution_count": 13,
   "id": "30fea319",
   "metadata": {},
   "outputs": [
    {
     "name": "stderr",
     "output_type": "stream",
     "text": [
      "Received notification from DBMS server: {severity: WARNING} {code: Neo.ClientNotification.Statement.UnknownRelationshipTypeWarning} {category: UNRECOGNIZED} {title: The provided relationship type is not in the database.} {description: One of the relationship types in your query is not available in the database, make sure you didn't misspell it or that the label is available when you run this statement in your application (the missing relationship type is: ACTED_IN)} {position: line: 2, column: 44, offset: 44} for query: '\\n  MATCH (tom:Person {name: \"Tom Hanks\"})-[:ACTED_IN]->(tomHanksMovies:Movie) \\n  RETURN tom.name,tomHanksMovies.title\\n  '\n",
      "Received notification from DBMS server: {severity: WARNING} {code: Neo.ClientNotification.Statement.UnknownLabelWarning} {category: UNRECOGNIZED} {title: The provided label is not in the database.} {description: One of the labels in your query is not available in the database, make sure you didn't misspell it or that the label is available when you run this statement in your application (the missing label name is: Person)} {position: line: 2, column: 14, offset: 14} for query: '\\n  MATCH (tom:Person {name: \"Tom Hanks\"})-[:ACTED_IN]->(tomHanksMovies:Movie) \\n  RETURN tom.name,tomHanksMovies.title\\n  '\n",
      "Received notification from DBMS server: {severity: WARNING} {code: Neo.ClientNotification.Statement.UnknownLabelWarning} {category: UNRECOGNIZED} {title: The provided label is not in the database.} {description: One of the labels in your query is not available in the database, make sure you didn't misspell it or that the label is available when you run this statement in your application (the missing label name is: Movie)} {position: line: 2, column: 71, offset: 71} for query: '\\n  MATCH (tom:Person {name: \"Tom Hanks\"})-[:ACTED_IN]->(tomHanksMovies:Movie) \\n  RETURN tom.name,tomHanksMovies.title\\n  '\n"
     ]
    },
    {
     "data": {
      "text/plain": [
       "[]"
      ]
     },
     "execution_count": 13,
     "metadata": {},
     "output_type": "execute_result"
    }
   ],
   "source": [
    "cypher = \"\"\"\n",
    "  MATCH (tom:Person {name: \"Tom Hanks\"})-[:ACTED_IN]->(tomHanksMovies:Movie) \n",
    "  RETURN tom.name,tomHanksMovies.title\n",
    "  \"\"\"\n",
    "kg.query(cypher)"
   ]
  },
  {
   "cell_type": "code",
   "execution_count": 14,
   "id": "44829e43",
   "metadata": {},
   "outputs": [
    {
     "name": "stderr",
     "output_type": "stream",
     "text": [
      "Received notification from DBMS server: {severity: WARNING} {code: Neo.ClientNotification.Statement.UnknownRelationshipTypeWarning} {category: UNRECOGNIZED} {title: The provided relationship type is not in the database.} {description: One of the relationship types in your query is not available in the database, make sure you didn't misspell it or that the label is available when you run this statement in your application (the missing relationship type is: ACTED_IN)} {position: line: 2, column: 43, offset: 43} for query: '\\n  MATCH (tom:Person {name:\"Tom Hanks\"})-[:ACTED_IN]->(m)<-[:ACTED_IN]-(coActors) \\n  RETURN coActors.name, m.title\\n  '\n",
      "Received notification from DBMS server: {severity: WARNING} {code: Neo.ClientNotification.Statement.UnknownRelationshipTypeWarning} {category: UNRECOGNIZED} {title: The provided relationship type is not in the database.} {description: One of the relationship types in your query is not available in the database, make sure you didn't misspell it or that the label is available when you run this statement in your application (the missing relationship type is: ACTED_IN)} {position: line: 2, column: 61, offset: 61} for query: '\\n  MATCH (tom:Person {name:\"Tom Hanks\"})-[:ACTED_IN]->(m)<-[:ACTED_IN]-(coActors) \\n  RETURN coActors.name, m.title\\n  '\n",
      "Received notification from DBMS server: {severity: WARNING} {code: Neo.ClientNotification.Statement.UnknownLabelWarning} {category: UNRECOGNIZED} {title: The provided label is not in the database.} {description: One of the labels in your query is not available in the database, make sure you didn't misspell it or that the label is available when you run this statement in your application (the missing label name is: Person)} {position: line: 2, column: 14, offset: 14} for query: '\\n  MATCH (tom:Person {name:\"Tom Hanks\"})-[:ACTED_IN]->(m)<-[:ACTED_IN]-(coActors) \\n  RETURN coActors.name, m.title\\n  '\n"
     ]
    },
    {
     "data": {
      "text/plain": [
       "[]"
      ]
     },
     "execution_count": 14,
     "metadata": {},
     "output_type": "execute_result"
    }
   ],
   "source": [
    "cypher = \"\"\"\n",
    "  MATCH (tom:Person {name:\"Tom Hanks\"})-[:ACTED_IN]->(m)<-[:ACTED_IN]-(coActors) \n",
    "  RETURN coActors.name, m.title\n",
    "  \"\"\"\n",
    "kg.query(cypher)"
   ]
  },
  {
   "cell_type": "markdown",
   "id": "b254c9a4",
   "metadata": {},
   "source": [
    "### Delete data from the graph"
   ]
  },
  {
   "cell_type": "code",
   "execution_count": 15,
   "id": "a897facb",
   "metadata": {},
   "outputs": [
    {
     "name": "stderr",
     "output_type": "stream",
     "text": [
      "Received notification from DBMS server: {severity: WARNING} {code: Neo.ClientNotification.Statement.UnknownRelationshipTypeWarning} {category: UNRECOGNIZED} {title: The provided relationship type is not in the database.} {description: One of the relationship types in your query is not available in the database, make sure you didn't misspell it or that the label is available when you run this statement in your application (the missing relationship type is: ACTED_IN)} {position: line: 2, column: 51, offset: 51} for query: '\\nMATCH (emil:Person {name:\"Emil Eifrem\"})-[actedIn:ACTED_IN]->(movie:Movie)\\nRETURN emil.name, movie.title\\n'\n",
      "Received notification from DBMS server: {severity: WARNING} {code: Neo.ClientNotification.Statement.UnknownLabelWarning} {category: UNRECOGNIZED} {title: The provided label is not in the database.} {description: One of the labels in your query is not available in the database, make sure you didn't misspell it or that the label is available when you run this statement in your application (the missing label name is: Person)} {position: line: 2, column: 13, offset: 13} for query: '\\nMATCH (emil:Person {name:\"Emil Eifrem\"})-[actedIn:ACTED_IN]->(movie:Movie)\\nRETURN emil.name, movie.title\\n'\n",
      "Received notification from DBMS server: {severity: WARNING} {code: Neo.ClientNotification.Statement.UnknownLabelWarning} {category: UNRECOGNIZED} {title: The provided label is not in the database.} {description: One of the labels in your query is not available in the database, make sure you didn't misspell it or that the label is available when you run this statement in your application (the missing label name is: Movie)} {position: line: 2, column: 69, offset: 69} for query: '\\nMATCH (emil:Person {name:\"Emil Eifrem\"})-[actedIn:ACTED_IN]->(movie:Movie)\\nRETURN emil.name, movie.title\\n'\n"
     ]
    },
    {
     "data": {
      "text/plain": [
       "[]"
      ]
     },
     "execution_count": 15,
     "metadata": {},
     "output_type": "execute_result"
    }
   ],
   "source": [
    "cypher = \"\"\"\n",
    "MATCH (emil:Person {name:\"Emil Eifrem\"})-[actedIn:ACTED_IN]->(movie:Movie)\n",
    "RETURN emil.name, movie.title\n",
    "\"\"\"\n",
    "kg.query(cypher)"
   ]
  },
  {
   "cell_type": "code",
   "execution_count": 16,
   "id": "d19268aa",
   "metadata": {},
   "outputs": [
    {
     "data": {
      "text/plain": [
       "[]"
      ]
     },
     "execution_count": 16,
     "metadata": {},
     "output_type": "execute_result"
    }
   ],
   "source": [
    "cypher = \"\"\"\n",
    "MATCH (emil:Person {name:\"Emil Eifrem\"})-[actedIn:ACTED_IN]->(movie:Movie)\n",
    "DELETE actedIn\n",
    "\"\"\"\n",
    "kg.query(cypher)"
   ]
  },
  {
   "cell_type": "markdown",
   "id": "03dff8fb",
   "metadata": {},
   "source": [
    "### Adding data to the graph"
   ]
  },
  {
   "cell_type": "code",
   "execution_count": 17,
   "id": "30dbac1b",
   "metadata": {},
   "outputs": [
    {
     "data": {
      "text/plain": [
       "[{'andreas': {'name': 'Andreas'}}]"
      ]
     },
     "execution_count": 17,
     "metadata": {},
     "output_type": "execute_result"
    }
   ],
   "source": [
    "cypher = \"\"\"\n",
    "CREATE (andreas:Person {name:\"Andreas\"})\n",
    "RETURN andreas\n",
    "\"\"\"\n",
    "\n",
    "kg.query(cypher)"
   ]
  },
  {
   "cell_type": "code",
   "execution_count": 18,
   "id": "df477394",
   "metadata": {},
   "outputs": [
    {
     "data": {
      "text/plain": [
       "[]"
      ]
     },
     "execution_count": 18,
     "metadata": {},
     "output_type": "execute_result"
    }
   ],
   "source": [
    "cypher = \"\"\"\n",
    "MATCH (andreas:Person {name:\"Andreas\"}), (emil:Person {name:\"Emil Eifrem\"})\n",
    "MERGE (andreas)-[hasRelationship:WORKS_WITH]->(emil)\n",
    "RETURN andreas, hasRelationship, emil\n",
    "\"\"\"\n",
    "kg.query(cypher)"
   ]
  },
  {
   "cell_type": "code",
   "execution_count": null,
   "id": "3d9c7dfd",
   "metadata": {},
   "outputs": [],
   "source": []
  }
 ],
 "metadata": {
  "kernelspec": {
   "display_name": "llm_env",
   "language": "python",
   "name": "python3"
  },
  "language_info": {
   "codemirror_mode": {
    "name": "ipython",
    "version": 3
   },
   "file_extension": ".py",
   "mimetype": "text/x-python",
   "name": "python",
   "nbconvert_exporter": "python",
   "pygments_lexer": "ipython3",
   "version": "3.11.9"
  }
 },
 "nbformat": 4,
 "nbformat_minor": 5
}
